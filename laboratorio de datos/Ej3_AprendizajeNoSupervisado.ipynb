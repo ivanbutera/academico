{
  "nbformat": 4,
  "nbformat_minor": 0,
  "metadata": {
    "colab": {
      "name": "Recuperatorio_TP2_Ivan_Butera.ipynb",
      "provenance": [],
      "collapsed_sections": []
    },
    "kernelspec": {
      "name": "python3",
      "display_name": "Python 3"
    },
    "language_info": {
      "name": "python"
    }
  },
  "cells": [
    {
      "cell_type": "markdown",
      "source": [
        "# **Aprendizaje Supervisado: Random Forest Classifier**\n",
        "\n",
        "La idea de este notebook es predecir la severidad de accidentes de tránsito en Estados Unidos utilizando un modelo de aprendizaje supervisado"
      ],
      "metadata": {
        "id": "Q22RqHa3P0j2"
      }
    },
    {
      "cell_type": "code",
      "execution_count": null,
      "metadata": {
        "colab": {
          "base_uri": "https://localhost:8080/"
        },
        "id": "H9fEgI9qRHxt",
        "outputId": "e214301f-8236-472c-f0eb-1943417f0127"
      },
      "outputs": [
        {
          "output_type": "stream",
          "name": "stdout",
          "text": [
            "Mounted at /content/drive\n"
          ]
        }
      ],
      "source": [
        "from google.colab import drive\n",
        "import pandas as pd\n",
        "import numpy as np\n",
        "from sklearn.model_selection import train_test_split\n",
        "from sklearn.ensemble import RandomForestClassifier\n",
        "from sklearn.metrics import roc_auc_score\n",
        "\n",
        "drive.mount('/content/drive') # montamos el drive\n",
        "\n",
        "# cargamos el dataframe de entrenamiento y el dataframe de testeo\n",
        "# el dataframe de entrenamiento tiene toda la información, incluyendo la columna 'Severity' (severidad)\n",
        "# esta es la columna que vamos a entrenar el modelo para predecir: 0=severidad baja; 1=severidad alta.\n",
        "# en cambio, el dataframe de test no tiene esta columna: son los datos que usamos para generar la predicción que se entrega.\n",
        "filename_train = '/content/drive/My Drive/LaboDatos2022/SegundaEjercitacion/train.csv' \n",
        "filename_test = '/content/drive/My Drive/LaboDatos2022/SegundaEjercitacion/test4alumnxs.csv' \n",
        "\n",
        "df_train = pd.read_csv(filename_train)\n",
        "df_test = pd.read_csv(filename_test)"
      ]
    },
    {
      "cell_type": "code",
      "source": [
        "# acá voy a apllicar un par de transformaciones a los datos para poder tener una mejor prediccion:\n",
        "\n",
        "#df_train.columns\n",
        "\n",
        "#df_train['Wind_Direction'] = df_train['Wind_Direction'].replace(['North', 'South', 'East', 'West'],['N', 'S', 'E', 'W']) #normaliza la direccion del viento\n",
        "df_train['Duracion'] = (pd.to_datetime(df_train['End_Time']) - pd.to_datetime(df_train['Start_Time'])).astype('timedelta64[m]') #nos da una idea de la duracion del accidente\n",
        "\n",
        "df_train.columns"
      ],
      "metadata": {
        "colab": {
          "base_uri": "https://localhost:8080/"
        },
        "id": "N1C18ia9WW14",
        "outputId": "8144f6ba-9bb1-4b11-9d14-e8f9c5ff8fd5"
      },
      "execution_count": null,
      "outputs": [
        {
          "output_type": "execute_result",
          "data": {
            "text/plain": [
              "Index(['Unnamed: 0', 'Unnamed: 0.1', 'Severity', 'Start_Time', 'End_Time',\n",
              "       'Start_Lat', 'Start_Lng', 'End_Lat', 'End_Lng', 'Distance(mi)',\n",
              "       'Description', 'Number', 'Street', 'Side', 'City', 'County', 'State',\n",
              "       'Zipcode', 'Country', 'Timezone', 'Airport_Code', 'Weather_Timestamp',\n",
              "       'Temperature(F)', 'Wind_Chill(F)', 'Humidity(%)', 'Pressure(in)',\n",
              "       'Visibility(mi)', 'Wind_Direction', 'Wind_Speed(mph)',\n",
              "       'Precipitation(in)', 'Weather_Condition', 'Amenity', 'Bump', 'Crossing',\n",
              "       'Give_Way', 'Junction', 'No_Exit', 'Railway', 'Roundabout', 'Station',\n",
              "       'Stop', 'Traffic_Calming', 'Traffic_Signal', 'Turning_Loop',\n",
              "       'Sunrise_Sunset', 'Civil_Twilight', 'Nautical_Twilight',\n",
              "       'Astronomical_Twilight', 'Duracion'],\n",
              "      dtype='object')"
            ]
          },
          "metadata": {},
          "execution_count": 2
        }
      ]
    },
    {
      "cell_type": "code",
      "source": [
        "y = np.array(df_train['Severity']) # armo el vector de etiquetas\n",
        "\n",
        "# vamos a entrenar un modelo usando las siguientes variables:\n",
        "columnas_modelo = ['Temperature(F)', 'Wind_Chill(F)', 'Humidity(%)', 'Pressure(in)', 'Visibility(mi)', 'Wind_Speed(mph)', 'Precipitation(in)', 'Duracion', 'Distance(mi)']\n",
        "\n",
        "# extraigo la matriz de features X\n",
        "X = np.array(df_train[columnas_modelo])\n",
        "\n",
        "# train-test split\n",
        "X_train, X_test, y_train, y_test = train_test_split(X, y, test_size=0.3, random_state=10)\n",
        "\n",
        "# pruebo con un random forest\n",
        "clf = RandomForestClassifier()  \n",
        "\n",
        "# ajusto el modelo\n",
        "clf.fit(X_train, y_train)\n",
        "\n",
        "# armo el vector de predicciones.\n",
        "y_hat_test = clf.predict_proba(X_test)[:, 1]\n",
        "y_hat_train = clf.predict_proba(X_train)[:, 1]\n",
        "\n",
        "# evaluo el AUC\n",
        "roc_test = roc_auc_score(y_test, y_hat_test)\n",
        "roc_train = roc_auc_score(y_train, y_hat_train)\n",
        "roc_test, roc_train\n"
      ],
      "metadata": {
        "colab": {
          "base_uri": "https://localhost:8080/"
        },
        "id": "ejyZH5FaRMV1",
        "outputId": "c175d126-490f-4c24-97f4-894d4d0ffac6"
      },
      "execution_count": null,
      "outputs": [
        {
          "output_type": "execute_result",
          "data": {
            "text/plain": [
              "(0.8751340876463825, 0.9999958153243802)"
            ]
          },
          "metadata": {},
          "execution_count": 3
        }
      ]
    },
    {
      "cell_type": "code",
      "source": [
        "# aplico las transformaciones al dataframe de testing asi puedo usar el nuevo modelo:\n",
        "df_test['Duracion'] = (pd.to_datetime(df_test['End_Time']) - pd.to_datetime(df_test['Start_Time'])).astype('timedelta64[m]') #nos da una idea de la duracion del accidente"
      ],
      "metadata": {
        "id": "v67MsQDhgN0g"
      },
      "execution_count": null,
      "outputs": []
    },
    {
      "cell_type": "code",
      "source": [
        "X2 = np.array(df_test[columnas_modelo]) # cargo el dataset de testeo\n",
        "\n",
        "predicciones = clf.predict_proba(X2)[:, 1] # obtengo el vector de probabilidades\n",
        "# este es el vector que vamos a entregar como resultado del TP\n",
        "\n",
        "print(predicciones)\n",
        "\n",
        "# lo guardo en colab\n",
        "np.savetxt('predicciones.csv', predicciones, delimiter=\",\")"
      ],
      "metadata": {
        "colab": {
          "base_uri": "https://localhost:8080/"
        },
        "id": "VRWf7P6zWDVL",
        "outputId": "889fa7a9-187d-4155-d47f-98bf42ff56b0"
      },
      "execution_count": null,
      "outputs": [
        {
          "output_type": "stream",
          "name": "stdout",
          "text": [
            "[0.13       0.44666667 0.2225     ... 0.08       0.75       0.36      ]\n"
          ]
        }
      ]
    },
    {
      "cell_type": "code",
      "source": [
        "#aca verifico que el len sea correcto :)\n",
        "\n",
        "print(len(predicciones))\n",
        "print(X2.shape[0])\n",
        "\n",
        "#ahora sí."
      ],
      "metadata": {
        "colab": {
          "base_uri": "https://localhost:8080/"
        },
        "id": "F-0jNOpNjMr0",
        "outputId": "4fcdb682-7ccf-4510-a50a-b186f64eeec1"
      },
      "execution_count": null,
      "outputs": [
        {
          "output_type": "stream",
          "name": "stdout",
          "text": [
            "11372\n",
            "11372\n"
          ]
        }
      ]
    }
  ]
}